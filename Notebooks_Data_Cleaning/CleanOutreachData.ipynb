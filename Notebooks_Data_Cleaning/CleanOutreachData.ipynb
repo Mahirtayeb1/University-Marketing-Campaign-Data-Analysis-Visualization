{
 "cells": [
  {
   "cell_type": "code",
   "execution_count": 3,
   "id": "795c6e7b",
   "metadata": {},
   "outputs": [
    {
     "name": "stdout",
     "output_type": "stream",
     "text": [
      "Collecting seaborn\n",
      "  Downloading seaborn-0.13.2-py3-none-any.whl (294 kB)\n",
      "     -------------------------------------- 294.9/294.9 kB 1.4 MB/s eta 0:00:00\n",
      "Requirement already satisfied: numpy!=1.24.0,>=1.20 in c:\\users\\user\\appdata\\local\\programs\\python\\python311\\lib\\site-packages (from seaborn) (1.26.2)\n",
      "Requirement already satisfied: pandas>=1.2 in c:\\users\\user\\appdata\\local\\programs\\python\\python311\\lib\\site-packages (from seaborn) (2.1.4)\n",
      "Requirement already satisfied: matplotlib!=3.6.1,>=3.4 in c:\\users\\user\\appdata\\local\\programs\\python\\python311\\lib\\site-packages (from seaborn) (3.8.4)\n",
      "Requirement already satisfied: contourpy>=1.0.1 in c:\\users\\user\\appdata\\local\\programs\\python\\python311\\lib\\site-packages (from matplotlib!=3.6.1,>=3.4->seaborn) (1.2.1)\n",
      "Requirement already satisfied: cycler>=0.10 in c:\\users\\user\\appdata\\local\\programs\\python\\python311\\lib\\site-packages (from matplotlib!=3.6.1,>=3.4->seaborn) (0.12.1)\n",
      "Requirement already satisfied: fonttools>=4.22.0 in c:\\users\\user\\appdata\\local\\programs\\python\\python311\\lib\\site-packages (from matplotlib!=3.6.1,>=3.4->seaborn) (4.51.0)\n",
      "Requirement already satisfied: kiwisolver>=1.3.1 in c:\\users\\user\\appdata\\local\\programs\\python\\python311\\lib\\site-packages (from matplotlib!=3.6.1,>=3.4->seaborn) (1.4.5)\n",
      "Requirement already satisfied: packaging>=20.0 in c:\\users\\user\\appdata\\local\\programs\\python\\python311\\lib\\site-packages (from matplotlib!=3.6.1,>=3.4->seaborn) (23.2)\n",
      "Requirement already satisfied: pillow>=8 in c:\\users\\user\\appdata\\local\\programs\\python\\python311\\lib\\site-packages (from matplotlib!=3.6.1,>=3.4->seaborn) (9.5.0)\n",
      "Requirement already satisfied: pyparsing>=2.3.1 in c:\\users\\user\\appdata\\local\\programs\\python\\python311\\lib\\site-packages (from matplotlib!=3.6.1,>=3.4->seaborn) (3.1.2)\n",
      "Requirement already satisfied: python-dateutil>=2.7 in c:\\users\\user\\appdata\\local\\programs\\python\\python311\\lib\\site-packages (from matplotlib!=3.6.1,>=3.4->seaborn) (2.8.2)\n",
      "Requirement already satisfied: pytz>=2020.1 in c:\\users\\user\\appdata\\local\\programs\\python\\python311\\lib\\site-packages (from pandas>=1.2->seaborn) (2023.3.post1)\n",
      "Requirement already satisfied: tzdata>=2022.1 in c:\\users\\user\\appdata\\local\\programs\\python\\python311\\lib\\site-packages (from pandas>=1.2->seaborn) (2023.3)\n",
      "Requirement already satisfied: six>=1.5 in c:\\users\\user\\appdata\\local\\programs\\python\\python311\\lib\\site-packages (from python-dateutil>=2.7->matplotlib!=3.6.1,>=3.4->seaborn) (1.16.0)\n",
      "Installing collected packages: seaborn\n",
      "Successfully installed seaborn-0.13.2\n"
     ]
    },
    {
     "name": "stderr",
     "output_type": "stream",
     "text": [
      "\n",
      "[notice] A new release of pip available: 22.3.1 -> 25.2\n",
      "[notice] To update, run: python.exe -m pip install --upgrade pip\n"
     ]
    }
   ],
   "source": [
    "!pip install seaborn"
   ]
  },
  {
   "cell_type": "code",
   "execution_count": 1,
   "id": "82d5c7bd",
   "metadata": {},
   "outputs": [],
   "source": [
    "import numpy as np\n",
    "import pandas as pd\n",
    "import seaborn as sns\n",
    "import matplotlib.pyplot as plt\n"
   ]
  },
  {
   "cell_type": "code",
   "execution_count": 3,
   "id": "693d90f0",
   "metadata": {},
   "outputs": [],
   "source": [
    "df = pd.read_csv(\"E:\\Data Analysis\\Excelerate Internship\\Week 1\\Resource\\Csv_files\\OutreachData.csv\")"
   ]
  },
  {
   "cell_type": "code",
   "execution_count": 7,
   "id": "e909ac3c",
   "metadata": {},
   "outputs": [
    {
     "data": {
      "text/html": [
       "<div>\n",
       "<style scoped>\n",
       "    .dataframe tbody tr th:only-of-type {\n",
       "        vertical-align: middle;\n",
       "    }\n",
       "\n",
       "    .dataframe tbody tr th {\n",
       "        vertical-align: top;\n",
       "    }\n",
       "\n",
       "    .dataframe thead th {\n",
       "        text-align: right;\n",
       "    }\n",
       "</style>\n",
       "<table border=\"1\" class=\"dataframe\">\n",
       "  <thead>\n",
       "    <tr style=\"text-align: right;\">\n",
       "      <th></th>\n",
       "      <th>Reference_ID</th>\n",
       "      <th>Recieved_At</th>\n",
       "      <th>University</th>\n",
       "      <th>Caller_Name</th>\n",
       "      <th>Outcome_1</th>\n",
       "      <th>Remark</th>\n",
       "      <th>Campaign_ID</th>\n",
       "      <th>Escalation_Required</th>\n",
       "    </tr>\n",
       "  </thead>\n",
       "  <tbody>\n",
       "    <tr>\n",
       "      <th>0</th>\n",
       "      <td>12345</td>\n",
       "      <td>4/28/2023 12:15</td>\n",
       "      <td>Illinois Institute of Technology</td>\n",
       "      <td>Shailja</td>\n",
       "      <td>Connected</td>\n",
       "      <td>NaN</td>\n",
       "      <td>IANF23</td>\n",
       "      <td>No</td>\n",
       "    </tr>\n",
       "    <tr>\n",
       "      <th>1</th>\n",
       "      <td>12345</td>\n",
       "      <td>4/28/2023 13:04</td>\n",
       "      <td>Illinois Institute of Technology</td>\n",
       "      <td>Shailja</td>\n",
       "      <td>Reschedule</td>\n",
       "      <td>NaN</td>\n",
       "      <td>IANF23</td>\n",
       "      <td>No</td>\n",
       "    </tr>\n",
       "    <tr>\n",
       "      <th>2</th>\n",
       "      <td>12345</td>\n",
       "      <td>5/1/2023 11:14</td>\n",
       "      <td>Illinois Institute of Technology</td>\n",
       "      <td>Shailja</td>\n",
       "      <td>Connected</td>\n",
       "      <td>NaN</td>\n",
       "      <td>IANF23</td>\n",
       "      <td>No</td>\n",
       "    </tr>\n",
       "    <tr>\n",
       "      <th>3</th>\n",
       "      <td>347397</td>\n",
       "      <td>5/1/2023 11:16</td>\n",
       "      <td>Illinois Institute of Technology</td>\n",
       "      <td>Isha</td>\n",
       "      <td>Not connected</td>\n",
       "      <td>NaN</td>\n",
       "      <td>IANF23</td>\n",
       "      <td>No</td>\n",
       "    </tr>\n",
       "    <tr>\n",
       "      <th>4</th>\n",
       "      <td>347397</td>\n",
       "      <td>5/1/2023 11:18</td>\n",
       "      <td>Illinois Institute of Technology</td>\n",
       "      <td>Isha</td>\n",
       "      <td>Connected</td>\n",
       "      <td>NaN</td>\n",
       "      <td>IANF23</td>\n",
       "      <td>No</td>\n",
       "    </tr>\n",
       "  </tbody>\n",
       "</table>\n",
       "</div>"
      ],
      "text/plain": [
       "  Reference_ID      Recieved_At                        University Caller_Name  \\\n",
       "0        12345  4/28/2023 12:15  Illinois Institute of Technology     Shailja   \n",
       "1        12345  4/28/2023 13:04  Illinois Institute of Technology     Shailja   \n",
       "2        12345   5/1/2023 11:14  Illinois Institute of Technology     Shailja   \n",
       "3       347397   5/1/2023 11:16  Illinois Institute of Technology        Isha   \n",
       "4       347397   5/1/2023 11:18  Illinois Institute of Technology        Isha   \n",
       "\n",
       "       Outcome_1 Remark Campaign_ID Escalation_Required  \n",
       "0      Connected    NaN      IANF23                  No  \n",
       "1     Reschedule    NaN      IANF23                  No  \n",
       "2      Connected    NaN      IANF23                  No  \n",
       "3  Not connected    NaN      IANF23                  No  \n",
       "4      Connected    NaN      IANF23                  No  "
      ]
     },
     "execution_count": 7,
     "metadata": {},
     "output_type": "execute_result"
    }
   ],
   "source": [
    "df.head()"
   ]
  },
  {
   "cell_type": "code",
   "execution_count": 4,
   "id": "603fd41d",
   "metadata": {},
   "outputs": [
    {
     "name": "stdout",
     "output_type": "stream",
     "text": [
      "<class 'pandas.core.frame.DataFrame'>\n",
      "RangeIndex: 37881 entries, 0 to 37880\n",
      "Data columns (total 8 columns):\n",
      " #   Column               Non-Null Count  Dtype \n",
      "---  ------               --------------  ----- \n",
      " 0   Reference_ID         37881 non-null  object\n",
      " 1   Recieved_At          37881 non-null  object\n",
      " 2   University           37881 non-null  object\n",
      " 3   Caller_Name          37881 non-null  object\n",
      " 4   Outcome_1            37881 non-null  object\n",
      " 5   Remark               4077 non-null   object\n",
      " 6   Campaign_ID          37881 non-null  object\n",
      " 7   Escalation_Required  37881 non-null  object\n",
      "dtypes: object(8)\n",
      "memory usage: 2.3+ MB\n"
     ]
    }
   ],
   "source": [
    "df.info()"
   ]
  },
  {
   "cell_type": "code",
   "execution_count": 5,
   "id": "d98773b5",
   "metadata": {},
   "outputs": [
    {
     "data": {
      "text/html": [
       "<div>\n",
       "<style scoped>\n",
       "    .dataframe tbody tr th:only-of-type {\n",
       "        vertical-align: middle;\n",
       "    }\n",
       "\n",
       "    .dataframe tbody tr th {\n",
       "        vertical-align: top;\n",
       "    }\n",
       "\n",
       "    .dataframe thead th {\n",
       "        text-align: right;\n",
       "    }\n",
       "</style>\n",
       "<table border=\"1\" class=\"dataframe\">\n",
       "  <thead>\n",
       "    <tr style=\"text-align: right;\">\n",
       "      <th></th>\n",
       "      <th>Reference_ID</th>\n",
       "      <th>Recieved_At</th>\n",
       "      <th>University</th>\n",
       "      <th>Caller_Name</th>\n",
       "      <th>Outcome_1</th>\n",
       "      <th>Remark</th>\n",
       "      <th>Campaign_ID</th>\n",
       "      <th>Escalation_Required</th>\n",
       "    </tr>\n",
       "  </thead>\n",
       "  <tbody>\n",
       "    <tr>\n",
       "      <th>count</th>\n",
       "      <td>37881</td>\n",
       "      <td>37881</td>\n",
       "      <td>37881</td>\n",
       "      <td>37881</td>\n",
       "      <td>37881</td>\n",
       "      <td>4077</td>\n",
       "      <td>37881</td>\n",
       "      <td>37881</td>\n",
       "    </tr>\n",
       "    <tr>\n",
       "      <th>unique</th>\n",
       "      <td>15416</td>\n",
       "      <td>31236</td>\n",
       "      <td>1</td>\n",
       "      <td>12</td>\n",
       "      <td>41</td>\n",
       "      <td>1716</td>\n",
       "      <td>23</td>\n",
       "      <td>3</td>\n",
       "    </tr>\n",
       "    <tr>\n",
       "      <th>top</th>\n",
       "      <td>`</td>\n",
       "      <td>5/3/2023 13:55</td>\n",
       "      <td>Illinois Institute of Technology</td>\n",
       "      <td>Rudra</td>\n",
       "      <td>Not connected</td>\n",
       "      <td>No answer</td>\n",
       "      <td>FA24IP</td>\n",
       "      <td>No</td>\n",
       "    </tr>\n",
       "    <tr>\n",
       "      <th>freq</th>\n",
       "      <td>2676</td>\n",
       "      <td>4</td>\n",
       "      <td>37881</td>\n",
       "      <td>14712</td>\n",
       "      <td>24498</td>\n",
       "      <td>151</td>\n",
       "      <td>9605</td>\n",
       "      <td>37118</td>\n",
       "    </tr>\n",
       "  </tbody>\n",
       "</table>\n",
       "</div>"
      ],
      "text/plain": [
       "       Reference_ID     Recieved_At                        University  \\\n",
       "count         37881           37881                             37881   \n",
       "unique        15416           31236                                 1   \n",
       "top               `  5/3/2023 13:55  Illinois Institute of Technology   \n",
       "freq           2676               4                             37881   \n",
       "\n",
       "       Caller_Name      Outcome_1     Remark Campaign_ID Escalation_Required  \n",
       "count        37881          37881       4077       37881               37881  \n",
       "unique          12             41       1716          23                   3  \n",
       "top          Rudra  Not connected  No answer      FA24IP                  No  \n",
       "freq         14712          24498        151        9605               37118  "
      ]
     },
     "execution_count": 5,
     "metadata": {},
     "output_type": "execute_result"
    }
   ],
   "source": [
    "df.describe()"
   ]
  },
  {
   "cell_type": "code",
   "execution_count": 6,
   "id": "44b520b9",
   "metadata": {},
   "outputs": [
    {
     "data": {
      "text/plain": [
       "(37881, 8)"
      ]
     },
     "execution_count": 6,
     "metadata": {},
     "output_type": "execute_result"
    }
   ],
   "source": [
    "df.shape"
   ]
  },
  {
   "cell_type": "markdown",
   "id": "71ac7424",
   "metadata": {},
   "source": [
    "# @title Cleaning Reference_ID column"
   ]
  },
  {
   "cell_type": "code",
   "execution_count": 7,
   "id": "6b7266af",
   "metadata": {},
   "outputs": [],
   "source": [
    "df = df.dropna(subset=['Reference_ID'])"
   ]
  },
  {
   "cell_type": "code",
   "execution_count": 8,
   "id": "121d31bc",
   "metadata": {},
   "outputs": [
    {
     "data": {
      "text/html": [
       "<div>\n",
       "<style scoped>\n",
       "    .dataframe tbody tr th:only-of-type {\n",
       "        vertical-align: middle;\n",
       "    }\n",
       "\n",
       "    .dataframe tbody tr th {\n",
       "        vertical-align: top;\n",
       "    }\n",
       "\n",
       "    .dataframe thead th {\n",
       "        text-align: right;\n",
       "    }\n",
       "</style>\n",
       "<table border=\"1\" class=\"dataframe\">\n",
       "  <thead>\n",
       "    <tr style=\"text-align: right;\">\n",
       "      <th></th>\n",
       "      <th>Reference_ID</th>\n",
       "      <th>Recieved_At</th>\n",
       "      <th>University</th>\n",
       "      <th>Caller_Name</th>\n",
       "      <th>Outcome_1</th>\n",
       "      <th>Remark</th>\n",
       "      <th>Campaign_ID</th>\n",
       "      <th>Escalation_Required</th>\n",
       "    </tr>\n",
       "  </thead>\n",
       "  <tbody>\n",
       "    <tr>\n",
       "      <th>37876</th>\n",
       "      <td>-</td>\n",
       "      <td>12/24/2024 17:30</td>\n",
       "      <td>Illinois Institute of Technology</td>\n",
       "      <td>Jyoti</td>\n",
       "      <td>Not connected</td>\n",
       "      <td>NaN</td>\n",
       "      <td>SP25NIQ</td>\n",
       "      <td>No</td>\n",
       "    </tr>\n",
       "    <tr>\n",
       "      <th>37877</th>\n",
       "      <td>-</td>\n",
       "      <td>12/24/2024 17:32</td>\n",
       "      <td>Illinois Institute of Technology</td>\n",
       "      <td>Jyoti</td>\n",
       "      <td>Not connected</td>\n",
       "      <td>NaN</td>\n",
       "      <td>SP25NIQ</td>\n",
       "      <td>No</td>\n",
       "    </tr>\n",
       "    <tr>\n",
       "      <th>37878</th>\n",
       "      <td>-</td>\n",
       "      <td>12/24/2024 17:38</td>\n",
       "      <td>Illinois Institute of Technology</td>\n",
       "      <td>Jyoti</td>\n",
       "      <td>Not connected</td>\n",
       "      <td>NaN</td>\n",
       "      <td>SP25NIQ</td>\n",
       "      <td>No</td>\n",
       "    </tr>\n",
       "    <tr>\n",
       "      <th>37879</th>\n",
       "      <td>-</td>\n",
       "      <td>12/24/2024 17:40</td>\n",
       "      <td>Illinois Institute of Technology</td>\n",
       "      <td>Jyoti</td>\n",
       "      <td>Not connected</td>\n",
       "      <td>NaN</td>\n",
       "      <td>SP25NIQ</td>\n",
       "      <td>No</td>\n",
       "    </tr>\n",
       "    <tr>\n",
       "      <th>37880</th>\n",
       "      <td>-</td>\n",
       "      <td>12/24/2024 17:44</td>\n",
       "      <td>Illinois Institute of Technology</td>\n",
       "      <td>Jyoti</td>\n",
       "      <td>Not connected</td>\n",
       "      <td>NaN</td>\n",
       "      <td>SP25NIQ</td>\n",
       "      <td>No</td>\n",
       "    </tr>\n",
       "  </tbody>\n",
       "</table>\n",
       "</div>"
      ],
      "text/plain": [
       "      Reference_ID       Recieved_At                        University  \\\n",
       "37876            -  12/24/2024 17:30  Illinois Institute of Technology   \n",
       "37877            -  12/24/2024 17:32  Illinois Institute of Technology   \n",
       "37878            -  12/24/2024 17:38  Illinois Institute of Technology   \n",
       "37879            -  12/24/2024 17:40  Illinois Institute of Technology   \n",
       "37880            -  12/24/2024 17:44  Illinois Institute of Technology   \n",
       "\n",
       "      Caller_Name      Outcome_1 Remark Campaign_ID Escalation_Required  \n",
       "37876       Jyoti  Not connected    NaN     SP25NIQ                  No  \n",
       "37877       Jyoti  Not connected    NaN     SP25NIQ                  No  \n",
       "37878       Jyoti  Not connected    NaN     SP25NIQ                  No  \n",
       "37879       Jyoti  Not connected    NaN     SP25NIQ                  No  \n",
       "37880       Jyoti  Not connected    NaN     SP25NIQ                  No  "
      ]
     },
     "execution_count": 8,
     "metadata": {},
     "output_type": "execute_result"
    }
   ],
   "source": [
    "df.tail()"
   ]
  },
  {
   "cell_type": "code",
   "execution_count": 9,
   "id": "c2fd61d7",
   "metadata": {},
   "outputs": [],
   "source": [
    "df = df[df['Reference_ID'].str.isdigit()]"
   ]
  },
  {
   "cell_type": "code",
   "execution_count": 10,
   "id": "3fd76042",
   "metadata": {},
   "outputs": [
    {
     "name": "stdout",
     "output_type": "stream",
     "text": [
      "<class 'pandas.core.frame.DataFrame'>\n",
      "Index: 33119 entries, 0 to 37861\n",
      "Data columns (total 8 columns):\n",
      " #   Column               Non-Null Count  Dtype \n",
      "---  ------               --------------  ----- \n",
      " 0   Reference_ID         33119 non-null  object\n",
      " 1   Recieved_At          33119 non-null  object\n",
      " 2   University           33119 non-null  object\n",
      " 3   Caller_Name          33119 non-null  object\n",
      " 4   Outcome_1            33119 non-null  object\n",
      " 5   Remark               3939 non-null   object\n",
      " 6   Campaign_ID          33119 non-null  object\n",
      " 7   Escalation_Required  33119 non-null  object\n",
      "dtypes: object(8)\n",
      "memory usage: 2.3+ MB\n"
     ]
    }
   ],
   "source": [
    "df.info()"
   ]
  },
  {
   "cell_type": "code",
   "execution_count": 11,
   "id": "9556c1fe",
   "metadata": {},
   "outputs": [
    {
     "data": {
      "text/html": [
       "<div>\n",
       "<style scoped>\n",
       "    .dataframe tbody tr th:only-of-type {\n",
       "        vertical-align: middle;\n",
       "    }\n",
       "\n",
       "    .dataframe tbody tr th {\n",
       "        vertical-align: top;\n",
       "    }\n",
       "\n",
       "    .dataframe thead th {\n",
       "        text-align: right;\n",
       "    }\n",
       "</style>\n",
       "<table border=\"1\" class=\"dataframe\">\n",
       "  <thead>\n",
       "    <tr style=\"text-align: right;\">\n",
       "      <th></th>\n",
       "      <th>Reference_ID</th>\n",
       "      <th>Recieved_At</th>\n",
       "      <th>University</th>\n",
       "      <th>Caller_Name</th>\n",
       "      <th>Outcome_1</th>\n",
       "      <th>Remark</th>\n",
       "      <th>Campaign_ID</th>\n",
       "      <th>Escalation_Required</th>\n",
       "    </tr>\n",
       "  </thead>\n",
       "  <tbody>\n",
       "    <tr>\n",
       "      <th>count</th>\n",
       "      <td>33119</td>\n",
       "      <td>33119</td>\n",
       "      <td>33119</td>\n",
       "      <td>33119</td>\n",
       "      <td>33119</td>\n",
       "      <td>3939</td>\n",
       "      <td>33119</td>\n",
       "      <td>33119</td>\n",
       "    </tr>\n",
       "    <tr>\n",
       "      <th>unique</th>\n",
       "      <td>15159</td>\n",
       "      <td>27876</td>\n",
       "      <td>1</td>\n",
       "      <td>12</td>\n",
       "      <td>41</td>\n",
       "      <td>1683</td>\n",
       "      <td>23</td>\n",
       "      <td>3</td>\n",
       "    </tr>\n",
       "    <tr>\n",
       "      <th>top</th>\n",
       "      <td>418630</td>\n",
       "      <td>5/3/2023 13:55</td>\n",
       "      <td>Illinois Institute of Technology</td>\n",
       "      <td>Rudra</td>\n",
       "      <td>Not connected</td>\n",
       "      <td>No answer</td>\n",
       "      <td>FA24IP</td>\n",
       "      <td>No</td>\n",
       "    </tr>\n",
       "    <tr>\n",
       "      <th>freq</th>\n",
       "      <td>37</td>\n",
       "      <td>4</td>\n",
       "      <td>33119</td>\n",
       "      <td>11564</td>\n",
       "      <td>21879</td>\n",
       "      <td>151</td>\n",
       "      <td>9583</td>\n",
       "      <td>32370</td>\n",
       "    </tr>\n",
       "  </tbody>\n",
       "</table>\n",
       "</div>"
      ],
      "text/plain": [
       "       Reference_ID     Recieved_At                        University  \\\n",
       "count         33119           33119                             33119   \n",
       "unique        15159           27876                                 1   \n",
       "top          418630  5/3/2023 13:55  Illinois Institute of Technology   \n",
       "freq             37               4                             33119   \n",
       "\n",
       "       Caller_Name      Outcome_1     Remark Campaign_ID Escalation_Required  \n",
       "count        33119          33119       3939       33119               33119  \n",
       "unique          12             41       1683          23                   3  \n",
       "top          Rudra  Not connected  No answer      FA24IP                  No  \n",
       "freq         11564          21879        151        9583               32370  "
      ]
     },
     "execution_count": 11,
     "metadata": {},
     "output_type": "execute_result"
    }
   ],
   "source": [
    "df.describe()"
   ]
  },
  {
   "cell_type": "code",
   "execution_count": 12,
   "id": "7e5a4d0c",
   "metadata": {},
   "outputs": [],
   "source": [
    "df['Reference_ID'] = df['Reference_ID'].astype(str)"
   ]
  },
  {
   "cell_type": "code",
   "execution_count": 13,
   "id": "cf91a2dd",
   "metadata": {},
   "outputs": [
    {
     "name": "stdout",
     "output_type": "stream",
     "text": [
      "<class 'pandas.core.frame.DataFrame'>\n",
      "Index: 33119 entries, 0 to 37861\n",
      "Data columns (total 8 columns):\n",
      " #   Column               Non-Null Count  Dtype \n",
      "---  ------               --------------  ----- \n",
      " 0   Reference_ID         33119 non-null  object\n",
      " 1   Recieved_At          33119 non-null  object\n",
      " 2   University           33119 non-null  object\n",
      " 3   Caller_Name          33119 non-null  object\n",
      " 4   Outcome_1            33119 non-null  object\n",
      " 5   Remark               3939 non-null   object\n",
      " 6   Campaign_ID          33119 non-null  object\n",
      " 7   Escalation_Required  33119 non-null  object\n",
      "dtypes: object(8)\n",
      "memory usage: 2.3+ MB\n"
     ]
    }
   ],
   "source": [
    "df.info()"
   ]
  },
  {
   "cell_type": "code",
   "execution_count": 15,
   "id": "c6ceb426",
   "metadata": {},
   "outputs": [
    {
     "data": {
      "text/plain": [
       "15159"
      ]
     },
     "execution_count": 15,
     "metadata": {},
     "output_type": "execute_result"
    }
   ],
   "source": [
    "df[\"Reference_ID\"].nunique()"
   ]
  },
  {
   "cell_type": "code",
   "execution_count": 16,
   "id": "bad4b3b6",
   "metadata": {},
   "outputs": [
    {
     "data": {
      "text/plain": [
       "array(['12345', '347397', '358065', ..., '98077675', '9876789', '425358'],\n",
       "      dtype=object)"
      ]
     },
     "execution_count": 16,
     "metadata": {},
     "output_type": "execute_result"
    }
   ],
   "source": [
    "df[\"Reference_ID\"].unique()"
   ]
  },
  {
   "cell_type": "code",
   "execution_count": 17,
   "id": "4be9ad74",
   "metadata": {},
   "outputs": [
    {
     "data": {
      "text/plain": [
       "Reference_ID\n",
       "418630    37\n",
       "474311    20\n",
       "451193    20\n",
       "438353    20\n",
       "478295    19\n",
       "          ..\n",
       "457715     1\n",
       "423011     1\n",
       "431886     1\n",
       "456664     1\n",
       "425358     1\n",
       "Name: count, Length: 15159, dtype: int64"
      ]
     },
     "execution_count": 17,
     "metadata": {},
     "output_type": "execute_result"
    }
   ],
   "source": [
    "df[\"Reference_ID\"].value_counts()"
   ]
  },
  {
   "cell_type": "code",
   "execution_count": 18,
   "id": "6367a865",
   "metadata": {},
   "outputs": [
    {
     "data": {
      "text/html": [
       "<div>\n",
       "<style scoped>\n",
       "    .dataframe tbody tr th:only-of-type {\n",
       "        vertical-align: middle;\n",
       "    }\n",
       "\n",
       "    .dataframe tbody tr th {\n",
       "        vertical-align: top;\n",
       "    }\n",
       "\n",
       "    .dataframe thead th {\n",
       "        text-align: right;\n",
       "    }\n",
       "</style>\n",
       "<table border=\"1\" class=\"dataframe\">\n",
       "  <thead>\n",
       "    <tr style=\"text-align: right;\">\n",
       "      <th></th>\n",
       "      <th>Reference_ID</th>\n",
       "      <th>Recieved_At</th>\n",
       "      <th>University</th>\n",
       "      <th>Caller_Name</th>\n",
       "      <th>Outcome_1</th>\n",
       "      <th>Remark</th>\n",
       "      <th>Campaign_ID</th>\n",
       "      <th>Escalation_Required</th>\n",
       "    </tr>\n",
       "  </thead>\n",
       "  <tbody>\n",
       "    <tr>\n",
       "      <th>0</th>\n",
       "      <td>12345</td>\n",
       "      <td>4/28/2023 12:15</td>\n",
       "      <td>Illinois Institute of Technology</td>\n",
       "      <td>Shailja</td>\n",
       "      <td>Connected</td>\n",
       "      <td>NaN</td>\n",
       "      <td>IANF23</td>\n",
       "      <td>No</td>\n",
       "    </tr>\n",
       "    <tr>\n",
       "      <th>1</th>\n",
       "      <td>12345</td>\n",
       "      <td>4/28/2023 13:04</td>\n",
       "      <td>Illinois Institute of Technology</td>\n",
       "      <td>Shailja</td>\n",
       "      <td>Reschedule</td>\n",
       "      <td>NaN</td>\n",
       "      <td>IANF23</td>\n",
       "      <td>No</td>\n",
       "    </tr>\n",
       "    <tr>\n",
       "      <th>2</th>\n",
       "      <td>12345</td>\n",
       "      <td>5/1/2023 11:14</td>\n",
       "      <td>Illinois Institute of Technology</td>\n",
       "      <td>Shailja</td>\n",
       "      <td>Connected</td>\n",
       "      <td>NaN</td>\n",
       "      <td>IANF23</td>\n",
       "      <td>No</td>\n",
       "    </tr>\n",
       "    <tr>\n",
       "      <th>3</th>\n",
       "      <td>347397</td>\n",
       "      <td>5/1/2023 11:16</td>\n",
       "      <td>Illinois Institute of Technology</td>\n",
       "      <td>Isha</td>\n",
       "      <td>Not connected</td>\n",
       "      <td>NaN</td>\n",
       "      <td>IANF23</td>\n",
       "      <td>No</td>\n",
       "    </tr>\n",
       "    <tr>\n",
       "      <th>4</th>\n",
       "      <td>347397</td>\n",
       "      <td>5/1/2023 11:18</td>\n",
       "      <td>Illinois Institute of Technology</td>\n",
       "      <td>Isha</td>\n",
       "      <td>Connected</td>\n",
       "      <td>NaN</td>\n",
       "      <td>IANF23</td>\n",
       "      <td>No</td>\n",
       "    </tr>\n",
       "  </tbody>\n",
       "</table>\n",
       "</div>"
      ],
      "text/plain": [
       "  Reference_ID      Recieved_At                        University Caller_Name  \\\n",
       "0        12345  4/28/2023 12:15  Illinois Institute of Technology     Shailja   \n",
       "1        12345  4/28/2023 13:04  Illinois Institute of Technology     Shailja   \n",
       "2        12345   5/1/2023 11:14  Illinois Institute of Technology     Shailja   \n",
       "3       347397   5/1/2023 11:16  Illinois Institute of Technology        Isha   \n",
       "4       347397   5/1/2023 11:18  Illinois Institute of Technology        Isha   \n",
       "\n",
       "       Outcome_1 Remark Campaign_ID Escalation_Required  \n",
       "0      Connected    NaN      IANF23                  No  \n",
       "1     Reschedule    NaN      IANF23                  No  \n",
       "2      Connected    NaN      IANF23                  No  \n",
       "3  Not connected    NaN      IANF23                  No  \n",
       "4      Connected    NaN      IANF23                  No  "
      ]
     },
     "execution_count": 18,
     "metadata": {},
     "output_type": "execute_result"
    }
   ],
   "source": [
    "df.head()"
   ]
  },
  {
   "cell_type": "code",
   "execution_count": 19,
   "id": "602c239c",
   "metadata": {},
   "outputs": [
    {
     "data": {
      "text/html": [
       "<div>\n",
       "<style scoped>\n",
       "    .dataframe tbody tr th:only-of-type {\n",
       "        vertical-align: middle;\n",
       "    }\n",
       "\n",
       "    .dataframe tbody tr th {\n",
       "        vertical-align: top;\n",
       "    }\n",
       "\n",
       "    .dataframe thead th {\n",
       "        text-align: right;\n",
       "    }\n",
       "</style>\n",
       "<table border=\"1\" class=\"dataframe\">\n",
       "  <thead>\n",
       "    <tr style=\"text-align: right;\">\n",
       "      <th></th>\n",
       "      <th>Reference_ID</th>\n",
       "      <th>Recieved_At</th>\n",
       "      <th>University</th>\n",
       "      <th>Caller_Name</th>\n",
       "      <th>Outcome_1</th>\n",
       "      <th>Remark</th>\n",
       "      <th>Campaign_ID</th>\n",
       "      <th>Escalation_Required</th>\n",
       "    </tr>\n",
       "  </thead>\n",
       "  <tbody>\n",
       "    <tr>\n",
       "      <th>37857</th>\n",
       "      <td>473550</td>\n",
       "      <td>12/24/2024 16:30</td>\n",
       "      <td>Illinois Institute of Technology</td>\n",
       "      <td>Jyoti</td>\n",
       "      <td>Not connected</td>\n",
       "      <td>NaN</td>\n",
       "      <td>SP25DSP</td>\n",
       "      <td>No</td>\n",
       "    </tr>\n",
       "    <tr>\n",
       "      <th>37858</th>\n",
       "      <td>474311</td>\n",
       "      <td>12/24/2024 16:32</td>\n",
       "      <td>Illinois Institute of Technology</td>\n",
       "      <td>Jyoti</td>\n",
       "      <td>Not connected</td>\n",
       "      <td>NaN</td>\n",
       "      <td>SP25DSP</td>\n",
       "      <td>No</td>\n",
       "    </tr>\n",
       "    <tr>\n",
       "      <th>37859</th>\n",
       "      <td>476192</td>\n",
       "      <td>12/24/2024 16:34</td>\n",
       "      <td>Illinois Institute of Technology</td>\n",
       "      <td>Jyoti</td>\n",
       "      <td>Not connected</td>\n",
       "      <td>NaN</td>\n",
       "      <td>SP25DSP</td>\n",
       "      <td>No</td>\n",
       "    </tr>\n",
       "    <tr>\n",
       "      <th>37860</th>\n",
       "      <td>477028</td>\n",
       "      <td>12/24/2024 16:36</td>\n",
       "      <td>Illinois Institute of Technology</td>\n",
       "      <td>Jyoti</td>\n",
       "      <td>Not connected</td>\n",
       "      <td>NaN</td>\n",
       "      <td>SP25DSP</td>\n",
       "      <td>No</td>\n",
       "    </tr>\n",
       "    <tr>\n",
       "      <th>37861</th>\n",
       "      <td>476184</td>\n",
       "      <td>12/24/2024 16:39</td>\n",
       "      <td>Illinois Institute of Technology</td>\n",
       "      <td>Jyoti</td>\n",
       "      <td>Not connected</td>\n",
       "      <td>NaN</td>\n",
       "      <td>SP25NIQ</td>\n",
       "      <td>No</td>\n",
       "    </tr>\n",
       "  </tbody>\n",
       "</table>\n",
       "</div>"
      ],
      "text/plain": [
       "      Reference_ID       Recieved_At                        University  \\\n",
       "37857       473550  12/24/2024 16:30  Illinois Institute of Technology   \n",
       "37858       474311  12/24/2024 16:32  Illinois Institute of Technology   \n",
       "37859       476192  12/24/2024 16:34  Illinois Institute of Technology   \n",
       "37860       477028  12/24/2024 16:36  Illinois Institute of Technology   \n",
       "37861       476184  12/24/2024 16:39  Illinois Institute of Technology   \n",
       "\n",
       "      Caller_Name      Outcome_1 Remark Campaign_ID Escalation_Required  \n",
       "37857       Jyoti  Not connected    NaN     SP25DSP                  No  \n",
       "37858       Jyoti  Not connected    NaN     SP25DSP                  No  \n",
       "37859       Jyoti  Not connected    NaN     SP25DSP                  No  \n",
       "37860       Jyoti  Not connected    NaN     SP25DSP                  No  \n",
       "37861       Jyoti  Not connected    NaN     SP25NIQ                  No  "
      ]
     },
     "execution_count": 19,
     "metadata": {},
     "output_type": "execute_result"
    }
   ],
   "source": [
    "df.tail()"
   ]
  },
  {
   "cell_type": "code",
   "execution_count": 21,
   "id": "263ef41d",
   "metadata": {},
   "outputs": [
    {
     "data": {
      "text/html": [
       "<div>\n",
       "<style scoped>\n",
       "    .dataframe tbody tr th:only-of-type {\n",
       "        vertical-align: middle;\n",
       "    }\n",
       "\n",
       "    .dataframe tbody tr th {\n",
       "        vertical-align: top;\n",
       "    }\n",
       "\n",
       "    .dataframe thead th {\n",
       "        text-align: right;\n",
       "    }\n",
       "</style>\n",
       "<table border=\"1\" class=\"dataframe\">\n",
       "  <thead>\n",
       "    <tr style=\"text-align: right;\">\n",
       "      <th></th>\n",
       "      <th>Reference_ID</th>\n",
       "      <th>Recieved_At</th>\n",
       "      <th>University</th>\n",
       "      <th>Caller_Name</th>\n",
       "      <th>Outcome_1</th>\n",
       "      <th>Remark</th>\n",
       "      <th>Campaign_ID</th>\n",
       "      <th>Escalation_Required</th>\n",
       "    </tr>\n",
       "  </thead>\n",
       "  <tbody>\n",
       "    <tr>\n",
       "      <th>0</th>\n",
       "      <td>12345</td>\n",
       "      <td>4/28/2023 12:15</td>\n",
       "      <td>Illinois Institute of Technology</td>\n",
       "      <td>Shailja</td>\n",
       "      <td>Connected</td>\n",
       "      <td>NaN</td>\n",
       "      <td>IANF23</td>\n",
       "      <td>No</td>\n",
       "    </tr>\n",
       "    <tr>\n",
       "      <th>1</th>\n",
       "      <td>12345</td>\n",
       "      <td>4/28/2023 13:04</td>\n",
       "      <td>Illinois Institute of Technology</td>\n",
       "      <td>Shailja</td>\n",
       "      <td>Reschedule</td>\n",
       "      <td>NaN</td>\n",
       "      <td>IANF23</td>\n",
       "      <td>No</td>\n",
       "    </tr>\n",
       "    <tr>\n",
       "      <th>2</th>\n",
       "      <td>12345</td>\n",
       "      <td>5/1/2023 11:14</td>\n",
       "      <td>Illinois Institute of Technology</td>\n",
       "      <td>Shailja</td>\n",
       "      <td>Connected</td>\n",
       "      <td>NaN</td>\n",
       "      <td>IANF23</td>\n",
       "      <td>No</td>\n",
       "    </tr>\n",
       "  </tbody>\n",
       "</table>\n",
       "</div>"
      ],
      "text/plain": [
       "  Reference_ID      Recieved_At                        University Caller_Name  \\\n",
       "0        12345  4/28/2023 12:15  Illinois Institute of Technology     Shailja   \n",
       "1        12345  4/28/2023 13:04  Illinois Institute of Technology     Shailja   \n",
       "2        12345   5/1/2023 11:14  Illinois Institute of Technology     Shailja   \n",
       "\n",
       "    Outcome_1 Remark Campaign_ID Escalation_Required  \n",
       "0   Connected    NaN      IANF23                  No  \n",
       "1  Reschedule    NaN      IANF23                  No  \n",
       "2   Connected    NaN      IANF23                  No  "
      ]
     },
     "execution_count": 21,
     "metadata": {},
     "output_type": "execute_result"
    }
   ],
   "source": [
    "filtered_df = df[df['Reference_ID'] == \"12345\"]\n",
    "filtered_df"
   ]
  },
  {
   "cell_type": "code",
   "execution_count": null,
   "id": "a691ba1f",
   "metadata": {},
   "outputs": [],
   "source": []
  },
  {
   "cell_type": "code",
   "execution_count": null,
   "id": "b1de7cea",
   "metadata": {},
   "outputs": [],
   "source": []
  },
  {
   "cell_type": "code",
   "execution_count": null,
   "id": "25dacfed",
   "metadata": {},
   "outputs": [],
   "source": []
  },
  {
   "cell_type": "code",
   "execution_count": null,
   "id": "1be8ca77",
   "metadata": {},
   "outputs": [],
   "source": []
  },
  {
   "cell_type": "code",
   "execution_count": null,
   "id": "3a814082",
   "metadata": {},
   "outputs": [],
   "source": []
  },
  {
   "cell_type": "code",
   "execution_count": null,
   "id": "76de12f4",
   "metadata": {},
   "outputs": [],
   "source": []
  },
  {
   "cell_type": "code",
   "execution_count": null,
   "id": "54ea269e",
   "metadata": {},
   "outputs": [],
   "source": []
  },
  {
   "cell_type": "code",
   "execution_count": null,
   "id": "60ff36d8",
   "metadata": {},
   "outputs": [],
   "source": []
  },
  {
   "cell_type": "code",
   "execution_count": null,
   "id": "9a619b52",
   "metadata": {},
   "outputs": [],
   "source": []
  },
  {
   "cell_type": "code",
   "execution_count": null,
   "id": "4e55c469",
   "metadata": {},
   "outputs": [],
   "source": []
  },
  {
   "cell_type": "code",
   "execution_count": null,
   "id": "da40f581",
   "metadata": {},
   "outputs": [],
   "source": []
  },
  {
   "cell_type": "code",
   "execution_count": null,
   "id": "5df6a114",
   "metadata": {},
   "outputs": [],
   "source": []
  },
  {
   "cell_type": "code",
   "execution_count": null,
   "id": "86844419",
   "metadata": {},
   "outputs": [],
   "source": []
  },
  {
   "cell_type": "code",
   "execution_count": null,
   "id": "23dbe3cb",
   "metadata": {},
   "outputs": [],
   "source": []
  },
  {
   "cell_type": "code",
   "execution_count": null,
   "id": "58afeb35",
   "metadata": {},
   "outputs": [],
   "source": []
  }
 ],
 "metadata": {
  "kernelspec": {
   "display_name": "Python 3",
   "language": "python",
   "name": "python3"
  },
  "language_info": {
   "codemirror_mode": {
    "name": "ipython",
    "version": 3
   },
   "file_extension": ".py",
   "mimetype": "text/x-python",
   "name": "python",
   "nbconvert_exporter": "python",
   "pygments_lexer": "ipython3",
   "version": "3.11.3"
  }
 },
 "nbformat": 4,
 "nbformat_minor": 5
}
