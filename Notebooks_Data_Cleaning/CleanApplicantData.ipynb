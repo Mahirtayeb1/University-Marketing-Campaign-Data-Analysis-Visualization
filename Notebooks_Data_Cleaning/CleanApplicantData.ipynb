{
 "cells": [
  {
   "cell_type": "code",
   "execution_count": 32,
   "id": "5ce2eafb",
   "metadata": {},
   "outputs": [
    {
     "name": "stdout",
     "output_type": "stream",
     "text": [
      "Collecting pycountry\n",
      "  Downloading pycountry-24.6.1-py3-none-any.whl (6.3 MB)\n",
      "     ---------------------------------------- 6.3/6.3 MB 3.6 MB/s eta 0:00:00\n",
      "Installing collected packages: pycountry\n",
      "Successfully installed pycountry-24.6.1\n"
     ]
    },
    {
     "name": "stderr",
     "output_type": "stream",
     "text": [
      "\n",
      "[notice] A new release of pip available: 22.3.1 -> 25.2\n",
      "[notice] To update, run: python.exe -m pip install --upgrade pip\n"
     ]
    }
   ],
   "source": [
    "!pip install pycountry"
   ]
  },
  {
   "cell_type": "code",
   "execution_count": 1,
   "id": "0938bd45",
   "metadata": {},
   "outputs": [],
   "source": [
    "import numpy as np\n",
    "import pandas as pd\n",
    "import seaborn as sns\n",
    "import matplotlib.pyplot as plt\n",
    "import pycountry"
   ]
  },
  {
   "cell_type": "code",
   "execution_count": 30,
   "id": "a6ea8f13",
   "metadata": {},
   "outputs": [],
   "source": [
    "df = pd.read_csv(\"E:\\Data Analysis\\Excelerate Internship\\Week 1\\Resource\\Csv_files\\ApplicantData.csv\")"
   ]
  },
  {
   "cell_type": "code",
   "execution_count": 32,
   "id": "940446be",
   "metadata": {},
   "outputs": [
    {
     "data": {
      "text/html": [
       "<div>\n",
       "<style scoped>\n",
       "    .dataframe tbody tr th:only-of-type {\n",
       "        vertical-align: middle;\n",
       "    }\n",
       "\n",
       "    .dataframe tbody tr th {\n",
       "        vertical-align: top;\n",
       "    }\n",
       "\n",
       "    .dataframe thead th {\n",
       "        text-align: right;\n",
       "    }\n",
       "</style>\n",
       "<table border=\"1\" class=\"dataframe\">\n",
       "  <thead>\n",
       "    <tr style=\"text-align: right;\">\n",
       "      <th></th>\n",
       "      <th>App_ID</th>\n",
       "      <th>Country</th>\n",
       "      <th>University</th>\n",
       "      <th>Phone_Number</th>\n",
       "    </tr>\n",
       "  </thead>\n",
       "  <tbody>\n",
       "    <tr>\n",
       "      <th>0</th>\n",
       "      <td>12345</td>\n",
       "      <td>India</td>\n",
       "      <td>Illinois Institute of Technology</td>\n",
       "      <td>9823241234</td>\n",
       "    </tr>\n",
       "    <tr>\n",
       "      <th>1</th>\n",
       "      <td>12345</td>\n",
       "      <td>India</td>\n",
       "      <td>Illinois Institute of Technology</td>\n",
       "      <td>8805617501</td>\n",
       "    </tr>\n",
       "    <tr>\n",
       "      <th>2</th>\n",
       "      <td>12345</td>\n",
       "      <td>India</td>\n",
       "      <td>Illinois Institute of Technology</td>\n",
       "      <td>18019011222</td>\n",
       "    </tr>\n",
       "    <tr>\n",
       "      <th>3</th>\n",
       "      <td>347397</td>\n",
       "      <td>Nigeria</td>\n",
       "      <td>Illinois Institute of Technology</td>\n",
       "      <td>7738599513</td>\n",
       "    </tr>\n",
       "    <tr>\n",
       "      <th>4</th>\n",
       "      <td>347397</td>\n",
       "      <td>Nigeria</td>\n",
       "      <td>Illinois Institute of Technology</td>\n",
       "      <td>919000000000</td>\n",
       "    </tr>\n",
       "  </tbody>\n",
       "</table>\n",
       "</div>"
      ],
      "text/plain": [
       "   App_ID  Country                        University  Phone_Number\n",
       "0   12345    India  Illinois Institute of Technology    9823241234\n",
       "1   12345    India  Illinois Institute of Technology    8805617501\n",
       "2   12345    India  Illinois Institute of Technology   18019011222\n",
       "3  347397  Nigeria  Illinois Institute of Technology    7738599513\n",
       "4  347397  Nigeria  Illinois Institute of Technology  919000000000"
      ]
     },
     "execution_count": 32,
     "metadata": {},
     "output_type": "execute_result"
    }
   ],
   "source": [
    "df.head()"
   ]
  },
  {
   "cell_type": "code",
   "execution_count": 33,
   "id": "788a8321",
   "metadata": {},
   "outputs": [
    {
     "data": {
      "text/plain": [
       "(37882, 4)"
      ]
     },
     "execution_count": 33,
     "metadata": {},
     "output_type": "execute_result"
    }
   ],
   "source": [
    "df.shape"
   ]
  },
  {
   "cell_type": "code",
   "execution_count": 34,
   "id": "e4c6ef3c",
   "metadata": {},
   "outputs": [
    {
     "name": "stdout",
     "output_type": "stream",
     "text": [
      "<class 'pandas.core.frame.DataFrame'>\n",
      "RangeIndex: 37882 entries, 0 to 37881\n",
      "Data columns (total 4 columns):\n",
      " #   Column        Non-Null Count  Dtype \n",
      "---  ------        --------------  ----- \n",
      " 0   App_ID        37881 non-null  object\n",
      " 1   Country       37882 non-null  object\n",
      " 2   University    37882 non-null  object\n",
      " 3   Phone_Number  37882 non-null  object\n",
      "dtypes: object(4)\n",
      "memory usage: 1.2+ MB\n"
     ]
    }
   ],
   "source": [
    "df.info()"
   ]
  },
  {
   "cell_type": "code",
   "execution_count": 35,
   "id": "9e20b5bc",
   "metadata": {},
   "outputs": [
    {
     "data": {
      "text/html": [
       "<div>\n",
       "<style scoped>\n",
       "    .dataframe tbody tr th:only-of-type {\n",
       "        vertical-align: middle;\n",
       "    }\n",
       "\n",
       "    .dataframe tbody tr th {\n",
       "        vertical-align: top;\n",
       "    }\n",
       "\n",
       "    .dataframe thead th {\n",
       "        text-align: right;\n",
       "    }\n",
       "</style>\n",
       "<table border=\"1\" class=\"dataframe\">\n",
       "  <thead>\n",
       "    <tr style=\"text-align: right;\">\n",
       "      <th></th>\n",
       "      <th>App_ID</th>\n",
       "      <th>Country</th>\n",
       "      <th>University</th>\n",
       "      <th>Phone_Number</th>\n",
       "    </tr>\n",
       "  </thead>\n",
       "  <tbody>\n",
       "    <tr>\n",
       "      <th>count</th>\n",
       "      <td>37881</td>\n",
       "      <td>37882</td>\n",
       "      <td>37882</td>\n",
       "      <td>37882</td>\n",
       "    </tr>\n",
       "    <tr>\n",
       "      <th>unique</th>\n",
       "      <td>15416</td>\n",
       "      <td>856</td>\n",
       "      <td>1</td>\n",
       "      <td>4764</td>\n",
       "    </tr>\n",
       "    <tr>\n",
       "      <th>top</th>\n",
       "      <td>`</td>\n",
       "      <td>India</td>\n",
       "      <td>Illinois Institute of Technology</td>\n",
       "      <td>919000000000</td>\n",
       "    </tr>\n",
       "    <tr>\n",
       "      <th>freq</th>\n",
       "      <td>2676</td>\n",
       "      <td>12234</td>\n",
       "      <td>37882</td>\n",
       "      <td>5261</td>\n",
       "    </tr>\n",
       "  </tbody>\n",
       "</table>\n",
       "</div>"
      ],
      "text/plain": [
       "       App_ID Country                        University  Phone_Number\n",
       "count   37881   37882                             37882         37882\n",
       "unique  15416     856                                 1          4764\n",
       "top         `   India  Illinois Institute of Technology  919000000000\n",
       "freq     2676   12234                             37882          5261"
      ]
     },
     "execution_count": 35,
     "metadata": {},
     "output_type": "execute_result"
    }
   ],
   "source": [
    "df.describe()"
   ]
  },
  {
   "cell_type": "markdown",
   "id": "65bc63d2",
   "metadata": {},
   "source": [
    "#@title Cleaning App_ID column from \"ApplicantData.csv\""
   ]
  },
  {
   "cell_type": "code",
   "execution_count": 36,
   "id": "52d40721",
   "metadata": {},
   "outputs": [],
   "source": [
    "df = df.dropna(subset=['App_ID'])"
   ]
  },
  {
   "cell_type": "code",
   "execution_count": 37,
   "id": "a03efdcf",
   "metadata": {},
   "outputs": [
    {
     "data": {
      "text/html": [
       "<div>\n",
       "<style scoped>\n",
       "    .dataframe tbody tr th:only-of-type {\n",
       "        vertical-align: middle;\n",
       "    }\n",
       "\n",
       "    .dataframe tbody tr th {\n",
       "        vertical-align: top;\n",
       "    }\n",
       "\n",
       "    .dataframe thead th {\n",
       "        text-align: right;\n",
       "    }\n",
       "</style>\n",
       "<table border=\"1\" class=\"dataframe\">\n",
       "  <thead>\n",
       "    <tr style=\"text-align: right;\">\n",
       "      <th></th>\n",
       "      <th>App_ID</th>\n",
       "      <th>Country</th>\n",
       "      <th>University</th>\n",
       "      <th>Phone_Number</th>\n",
       "    </tr>\n",
       "  </thead>\n",
       "  <tbody>\n",
       "    <tr>\n",
       "      <th>37876</th>\n",
       "      <td>-</td>\n",
       "      <td>Bahrain</td>\n",
       "      <td>Illinois Institute of Technology</td>\n",
       "      <td>97334305522</td>\n",
       "    </tr>\n",
       "    <tr>\n",
       "      <th>37877</th>\n",
       "      <td>-</td>\n",
       "      <td>Bahrain</td>\n",
       "      <td>Illinois Institute of Technology</td>\n",
       "      <td>97336598776</td>\n",
       "    </tr>\n",
       "    <tr>\n",
       "      <th>37878</th>\n",
       "      <td>-</td>\n",
       "      <td>Bahrain</td>\n",
       "      <td>Illinois Institute of Technology</td>\n",
       "      <td>97338787272</td>\n",
       "    </tr>\n",
       "    <tr>\n",
       "      <th>37879</th>\n",
       "      <td>-</td>\n",
       "      <td>australia</td>\n",
       "      <td>Illinois Institute of Technology</td>\n",
       "      <td>61432347819</td>\n",
       "    </tr>\n",
       "    <tr>\n",
       "      <th>37880</th>\n",
       "      <td>-</td>\n",
       "      <td>Bahrain</td>\n",
       "      <td>Illinois Institute of Technology</td>\n",
       "      <td>97335911259</td>\n",
       "    </tr>\n",
       "  </tbody>\n",
       "</table>\n",
       "</div>"
      ],
      "text/plain": [
       "      App_ID    Country                        University Phone_Number\n",
       "37876      -    Bahrain  Illinois Institute of Technology  97334305522\n",
       "37877      -    Bahrain  Illinois Institute of Technology  97336598776\n",
       "37878      -    Bahrain  Illinois Institute of Technology  97338787272\n",
       "37879      -  australia  Illinois Institute of Technology  61432347819\n",
       "37880      -    Bahrain  Illinois Institute of Technology  97335911259"
      ]
     },
     "execution_count": 37,
     "metadata": {},
     "output_type": "execute_result"
    }
   ],
   "source": [
    "df.tail()"
   ]
  },
  {
   "cell_type": "code",
   "execution_count": 38,
   "id": "4c9a9384",
   "metadata": {},
   "outputs": [],
   "source": [
    "df = df[df['App_ID'].str.isdigit()]"
   ]
  },
  {
   "cell_type": "code",
   "execution_count": 39,
   "id": "1fae887c",
   "metadata": {},
   "outputs": [
    {
     "name": "stdout",
     "output_type": "stream",
     "text": [
      "<class 'pandas.core.frame.DataFrame'>\n",
      "Index: 33223 entries, 0 to 37861\n",
      "Data columns (total 4 columns):\n",
      " #   Column        Non-Null Count  Dtype \n",
      "---  ------        --------------  ----- \n",
      " 0   App_ID        33223 non-null  object\n",
      " 1   Country       33223 non-null  object\n",
      " 2   University    33223 non-null  object\n",
      " 3   Phone_Number  33223 non-null  object\n",
      "dtypes: object(4)\n",
      "memory usage: 1.3+ MB\n"
     ]
    }
   ],
   "source": [
    "df.info()"
   ]
  },
  {
   "cell_type": "code",
   "execution_count": 40,
   "id": "867fa58d",
   "metadata": {},
   "outputs": [
    {
     "data": {
      "text/html": [
       "<div>\n",
       "<style scoped>\n",
       "    .dataframe tbody tr th:only-of-type {\n",
       "        vertical-align: middle;\n",
       "    }\n",
       "\n",
       "    .dataframe tbody tr th {\n",
       "        vertical-align: top;\n",
       "    }\n",
       "\n",
       "    .dataframe thead th {\n",
       "        text-align: right;\n",
       "    }\n",
       "</style>\n",
       "<table border=\"1\" class=\"dataframe\">\n",
       "  <thead>\n",
       "    <tr style=\"text-align: right;\">\n",
       "      <th></th>\n",
       "      <th>App_ID</th>\n",
       "      <th>Country</th>\n",
       "      <th>University</th>\n",
       "      <th>Phone_Number</th>\n",
       "    </tr>\n",
       "  </thead>\n",
       "  <tbody>\n",
       "    <tr>\n",
       "      <th>count</th>\n",
       "      <td>33223</td>\n",
       "      <td>33223</td>\n",
       "      <td>33223</td>\n",
       "      <td>33223</td>\n",
       "    </tr>\n",
       "    <tr>\n",
       "      <th>unique</th>\n",
       "      <td>15175</td>\n",
       "      <td>817</td>\n",
       "      <td>1</td>\n",
       "      <td>2819</td>\n",
       "    </tr>\n",
       "    <tr>\n",
       "      <th>top</th>\n",
       "      <td>418630</td>\n",
       "      <td>India</td>\n",
       "      <td>Illinois Institute of Technology</td>\n",
       "      <td>919000000000</td>\n",
       "    </tr>\n",
       "    <tr>\n",
       "      <th>freq</th>\n",
       "      <td>37</td>\n",
       "      <td>11412</td>\n",
       "      <td>33223</td>\n",
       "      <td>4969</td>\n",
       "    </tr>\n",
       "  </tbody>\n",
       "</table>\n",
       "</div>"
      ],
      "text/plain": [
       "        App_ID Country                        University  Phone_Number\n",
       "count    33223   33223                             33223         33223\n",
       "unique   15175     817                                 1          2819\n",
       "top     418630   India  Illinois Institute of Technology  919000000000\n",
       "freq        37   11412                             33223          4969"
      ]
     },
     "execution_count": 40,
     "metadata": {},
     "output_type": "execute_result"
    }
   ],
   "source": [
    "df.describe()"
   ]
  },
  {
   "cell_type": "code",
   "execution_count": 41,
   "id": "455bd9af",
   "metadata": {},
   "outputs": [],
   "source": [
    "df['App_ID'] = df['App_ID'].astype(str)"
   ]
  },
  {
   "cell_type": "code",
   "execution_count": 42,
   "id": "66171db6",
   "metadata": {},
   "outputs": [
    {
     "name": "stdout",
     "output_type": "stream",
     "text": [
      "<class 'pandas.core.frame.DataFrame'>\n",
      "Index: 33223 entries, 0 to 37861\n",
      "Data columns (total 4 columns):\n",
      " #   Column        Non-Null Count  Dtype \n",
      "---  ------        --------------  ----- \n",
      " 0   App_ID        33223 non-null  object\n",
      " 1   Country       33223 non-null  object\n",
      " 2   University    33223 non-null  object\n",
      " 3   Phone_Number  33223 non-null  object\n",
      "dtypes: object(4)\n",
      "memory usage: 1.3+ MB\n"
     ]
    }
   ],
   "source": [
    "df.info()"
   ]
  },
  {
   "cell_type": "code",
   "execution_count": 43,
   "id": "2ab7ad80",
   "metadata": {},
   "outputs": [
    {
     "data": {
      "text/plain": [
       "15175"
      ]
     },
     "execution_count": 43,
     "metadata": {},
     "output_type": "execute_result"
    }
   ],
   "source": [
    "df[\"App_ID\"].nunique()"
   ]
  },
  {
   "cell_type": "code",
   "execution_count": 44,
   "id": "3796507b",
   "metadata": {},
   "outputs": [
    {
     "data": {
      "text/plain": [
       "array(['12345', '347397', '358065', ..., '98077675', '9876789', '425358'],\n",
       "      dtype=object)"
      ]
     },
     "execution_count": 44,
     "metadata": {},
     "output_type": "execute_result"
    }
   ],
   "source": [
    "df[\"App_ID\"].unique()"
   ]
  },
  {
   "cell_type": "code",
   "execution_count": 45,
   "id": "8066de51",
   "metadata": {},
   "outputs": [
    {
     "data": {
      "text/plain": [
       "App_ID\n",
       "418630          37\n",
       "919000000000    27\n",
       "920000000000    21\n",
       "474311          20\n",
       "451193          20\n",
       "                ..\n",
       "432487           1\n",
       "434541           1\n",
       "405450           1\n",
       "420494           1\n",
       "425358           1\n",
       "Name: count, Length: 15175, dtype: int64"
      ]
     },
     "execution_count": 45,
     "metadata": {},
     "output_type": "execute_result"
    }
   ],
   "source": [
    "df[\"App_ID\"].value_counts()"
   ]
  },
  {
   "cell_type": "code",
   "execution_count": 46,
   "id": "db7d2f25",
   "metadata": {},
   "outputs": [],
   "source": [
    "cleaned_App_ID = df.drop_duplicates(subset=['App_ID'], keep='first')"
   ]
  },
  {
   "cell_type": "code",
   "execution_count": 47,
   "id": "71130e3e",
   "metadata": {},
   "outputs": [
    {
     "data": {
      "text/plain": [
       "App_ID\n",
       "418630          37\n",
       "919000000000    27\n",
       "920000000000    21\n",
       "474311          20\n",
       "451193          20\n",
       "                ..\n",
       "432487           1\n",
       "434541           1\n",
       "405450           1\n",
       "420494           1\n",
       "425358           1\n",
       "Name: count, Length: 15175, dtype: int64"
      ]
     },
     "execution_count": 47,
     "metadata": {},
     "output_type": "execute_result"
    }
   ],
   "source": [
    "df[\"App_ID\"].value_counts()"
   ]
  },
  {
   "cell_type": "code",
   "execution_count": 48,
   "id": "8e26de0c",
   "metadata": {},
   "outputs": [
    {
     "name": "stdout",
     "output_type": "stream",
     "text": [
      "App_ID\n",
      "12345     1\n",
      "403759    1\n",
      "424954    1\n",
      "461877    1\n",
      "424059    1\n",
      "         ..\n",
      "432051    1\n",
      "428896    1\n",
      "453325    1\n",
      "424254    1\n",
      "425358    1\n",
      "Name: count, Length: 15175, dtype: int64\n"
     ]
    }
   ],
   "source": [
    "print(cleaned_App_ID[\"App_ID\"].value_counts())\n"
   ]
  },
  {
   "cell_type": "code",
   "execution_count": 49,
   "id": "992fd003",
   "metadata": {},
   "outputs": [
    {
     "name": "stdout",
     "output_type": "stream",
     "text": [
      "App_ID\n",
      "12345     1\n",
      "403759    1\n",
      "424954    1\n",
      "461877    1\n",
      "424059    1\n",
      "         ..\n",
      "432051    1\n",
      "428896    1\n",
      "453325    1\n",
      "424254    1\n",
      "425358    1\n",
      "Name: count, Length: 15175, dtype: int64\n"
     ]
    }
   ],
   "source": [
    "df = df.drop_duplicates(subset=['App_ID'], keep='first')\n",
    "print(df[\"App_ID\"].value_counts())"
   ]
  },
  {
   "cell_type": "code",
   "execution_count": 50,
   "id": "21ca1c31",
   "metadata": {},
   "outputs": [
    {
     "name": "stdout",
     "output_type": "stream",
     "text": [
      "Unique App_IDs: 15175\n",
      "Rows left: 15175\n"
     ]
    }
   ],
   "source": [
    "print(\"Unique App_IDs:\", df[\"App_ID\"].nunique())\n",
    "print(\"Rows left:\", len(df))"
   ]
  },
  {
   "cell_type": "code",
   "execution_count": 52,
   "id": "3dfe9132",
   "metadata": {},
   "outputs": [],
   "source": [
    "valid_countries = {}\n",
    "\n",
    "for c in pycountry.countries:\n",
    "    valid_countries[c.name.lower()] = c.name         # full name\n",
    "    valid_countries[c.alpha_2.lower()] = c.alpha_2   # US, IN, FR is accpeted\n",
    "    valid_countries[c.alpha_3.lower()] = c.alpha_3   # USA, IND, FRA is accpeted"
   ]
  },
  {
   "cell_type": "code",
   "execution_count": 53,
   "id": "6e92cc4a",
   "metadata": {},
   "outputs": [],
   "source": [
    "df['Country'] = df['Country'].astype(str).str.strip().str.lower()"
   ]
  },
  {
   "cell_type": "code",
   "execution_count": 54,
   "id": "04338e87",
   "metadata": {},
   "outputs": [],
   "source": [
    "df['Country'] = df['Country'].map(valid_countries).fillna(\"Not Mentioned\")"
   ]
  },
  {
   "cell_type": "code",
   "execution_count": 56,
   "id": "ca5d48aa",
   "metadata": {},
   "outputs": [],
   "source": [
    "\n",
    "df['Phone_Number'] = df['Phone_Number'].astype(str).str.strip()\n",
    "\n",
    "df['Phone_Number'] = df['Phone_Number'].where(\n",
    "    df['Phone_Number'].str.isnumeric(), \n",
    "    \"Not Mentioned\"\n",
    ")\n"
   ]
  },
  {
   "cell_type": "code",
   "execution_count": 57,
   "id": "069c1f5d",
   "metadata": {},
   "outputs": [
    {
     "name": "stdout",
     "output_type": "stream",
     "text": [
      "<class 'pandas.core.frame.DataFrame'>\n",
      "Index: 15175 entries, 0 to 37100\n",
      "Data columns (total 4 columns):\n",
      " #   Column        Non-Null Count  Dtype \n",
      "---  ------        --------------  ----- \n",
      " 0   App_ID        15175 non-null  object\n",
      " 1   Country       15175 non-null  object\n",
      " 2   University    15175 non-null  object\n",
      " 3   Phone_Number  15175 non-null  object\n",
      "dtypes: object(4)\n",
      "memory usage: 592.8+ KB\n"
     ]
    }
   ],
   "source": [
    "df.info()"
   ]
  },
  {
   "cell_type": "code",
   "execution_count": 58,
   "id": "9eb613ce",
   "metadata": {},
   "outputs": [
    {
     "data": {
      "text/html": [
       "<div>\n",
       "<style scoped>\n",
       "    .dataframe tbody tr th:only-of-type {\n",
       "        vertical-align: middle;\n",
       "    }\n",
       "\n",
       "    .dataframe tbody tr th {\n",
       "        vertical-align: top;\n",
       "    }\n",
       "\n",
       "    .dataframe thead th {\n",
       "        text-align: right;\n",
       "    }\n",
       "</style>\n",
       "<table border=\"1\" class=\"dataframe\">\n",
       "  <thead>\n",
       "    <tr style=\"text-align: right;\">\n",
       "      <th></th>\n",
       "      <th>App_ID</th>\n",
       "      <th>Country</th>\n",
       "      <th>University</th>\n",
       "      <th>Phone_Number</th>\n",
       "    </tr>\n",
       "  </thead>\n",
       "  <tbody>\n",
       "    <tr>\n",
       "      <th>0</th>\n",
       "      <td>12345</td>\n",
       "      <td>India</td>\n",
       "      <td>Illinois Institute of Technology</td>\n",
       "      <td>9823241234</td>\n",
       "    </tr>\n",
       "    <tr>\n",
       "      <th>3</th>\n",
       "      <td>347397</td>\n",
       "      <td>Nigeria</td>\n",
       "      <td>Illinois Institute of Technology</td>\n",
       "      <td>7738599513</td>\n",
       "    </tr>\n",
       "    <tr>\n",
       "      <th>5</th>\n",
       "      <td>358065</td>\n",
       "      <td>India</td>\n",
       "      <td>Illinois Institute of Technology</td>\n",
       "      <td>920000000000</td>\n",
       "    </tr>\n",
       "    <tr>\n",
       "      <th>6</th>\n",
       "      <td>351333</td>\n",
       "      <td>India</td>\n",
       "      <td>Illinois Institute of Technology</td>\n",
       "      <td>13173701409</td>\n",
       "    </tr>\n",
       "    <tr>\n",
       "      <th>7</th>\n",
       "      <td>346435</td>\n",
       "      <td>India</td>\n",
       "      <td>Illinois Institute of Technology</td>\n",
       "      <td>917000000000</td>\n",
       "    </tr>\n",
       "  </tbody>\n",
       "</table>\n",
       "</div>"
      ],
      "text/plain": [
       "   App_ID  Country                        University  Phone_Number\n",
       "0   12345    India  Illinois Institute of Technology    9823241234\n",
       "3  347397  Nigeria  Illinois Institute of Technology    7738599513\n",
       "5  358065    India  Illinois Institute of Technology  920000000000\n",
       "6  351333    India  Illinois Institute of Technology   13173701409\n",
       "7  346435    India  Illinois Institute of Technology  917000000000"
      ]
     },
     "execution_count": 58,
     "metadata": {},
     "output_type": "execute_result"
    }
   ],
   "source": [
    "df.head()"
   ]
  },
  {
   "cell_type": "code",
   "execution_count": 59,
   "id": "25a4933d",
   "metadata": {},
   "outputs": [
    {
     "data": {
      "text/html": [
       "<div>\n",
       "<style scoped>\n",
       "    .dataframe tbody tr th:only-of-type {\n",
       "        vertical-align: middle;\n",
       "    }\n",
       "\n",
       "    .dataframe tbody tr th {\n",
       "        vertical-align: top;\n",
       "    }\n",
       "\n",
       "    .dataframe thead th {\n",
       "        text-align: right;\n",
       "    }\n",
       "</style>\n",
       "<table border=\"1\" class=\"dataframe\">\n",
       "  <thead>\n",
       "    <tr style=\"text-align: right;\">\n",
       "      <th></th>\n",
       "      <th>App_ID</th>\n",
       "      <th>Country</th>\n",
       "      <th>University</th>\n",
       "      <th>Phone_Number</th>\n",
       "    </tr>\n",
       "  </thead>\n",
       "  <tbody>\n",
       "    <tr>\n",
       "      <th>36409</th>\n",
       "      <td>478245</td>\n",
       "      <td>Saudi Arabia</td>\n",
       "      <td>Illinois Institute of Technology</td>\n",
       "      <td>967000000000</td>\n",
       "    </tr>\n",
       "    <tr>\n",
       "      <th>36874</th>\n",
       "      <td>502363</td>\n",
       "      <td>Ghana</td>\n",
       "      <td>Illinois Institute of Technology</td>\n",
       "      <td>233000000000</td>\n",
       "    </tr>\n",
       "    <tr>\n",
       "      <th>36989</th>\n",
       "      <td>98077675</td>\n",
       "      <td>Nigeria</td>\n",
       "      <td>Illinois Institute of Technology</td>\n",
       "      <td>2350000000000</td>\n",
       "    </tr>\n",
       "    <tr>\n",
       "      <th>36997</th>\n",
       "      <td>9876789</td>\n",
       "      <td>Ghana</td>\n",
       "      <td>Illinois Institute of Technology</td>\n",
       "      <td>233000000000</td>\n",
       "    </tr>\n",
       "    <tr>\n",
       "      <th>37100</th>\n",
       "      <td>425358</td>\n",
       "      <td>India</td>\n",
       "      <td>Illinois Institute of Technology</td>\n",
       "      <td>918000000000</td>\n",
       "    </tr>\n",
       "  </tbody>\n",
       "</table>\n",
       "</div>"
      ],
      "text/plain": [
       "         App_ID       Country                        University   Phone_Number\n",
       "36409    478245  Saudi Arabia  Illinois Institute of Technology   967000000000\n",
       "36874    502363         Ghana  Illinois Institute of Technology   233000000000\n",
       "36989  98077675       Nigeria  Illinois Institute of Technology  2350000000000\n",
       "36997   9876789         Ghana  Illinois Institute of Technology   233000000000\n",
       "37100    425358         India  Illinois Institute of Technology   918000000000"
      ]
     },
     "execution_count": 59,
     "metadata": {},
     "output_type": "execute_result"
    }
   ],
   "source": [
    "df.tail()"
   ]
  },
  {
   "cell_type": "code",
   "execution_count": 60,
   "id": "82275845",
   "metadata": {},
   "outputs": [],
   "source": [
    "# Save to new file\n",
    "df.to_csv(\"E:\\Data Analysis\\Excelerate Internship\\Week 1\\Resource\\Cleaned_Csv_files\\CleanApplicantData.csv\", index=False)\n"
   ]
  },
  {
   "cell_type": "code",
   "execution_count": 68,
   "id": "2fae6ef0",
   "metadata": {},
   "outputs": [
    {
     "data": {
      "image/png": "[encoded data removed]",
      "text/plain": [
       "<Figure size 1000x600 with 1 Axes>"
      ]
     },
     "metadata": {},
     "output_type": "display_data"
    }
   ],
   "source": [
    "import matplotlib.pyplot as plt\n",
    "\n",
    "top_countries = df['Country'].value_counts().head(10)\n",
    "\n",
    "plt.figure(figsize=(10,6))\n",
    "top_countries.plot(kind='bar', color='skyblue', edgecolor='black')\n",
    "\n",
    "plt.title(\"Top 10 Countries in Dataset\", fontsize=16)\n",
    "plt.xlabel(\"Country\", fontsize=12)\n",
    "plt.ylabel(\"Number of Occurrences\", fontsize=12)\n",
    "plt.xticks(rotation=45)\n",
    "plt.show()\n"
   ]
  },
  {
   "cell_type": "code",
   "execution_count": 69,
   "id": "18796938",
   "metadata": {},
   "outputs": [
    {
     "data": {
      "image/png": "[encoded data removed]",
      "text/plain": [
       "<Figure size 1000x600 with 1 Axes>"
      ]
     },
     "metadata": {},
     "output_type": "display_data"
    }
   ],
   "source": [
    "import matplotlib.pyplot as plt\n",
    "\n",
    "top_countries = df['Country'].value_counts().head(10)\n",
    "\n",
    "plt.figure(figsize=(10,6))\n",
    "top_countries.plot(kind='bar', color='skyblue', edgecolor='black')\n",
    "\n",
    "plt.title(\"Top 10 Countries in Dataset\", fontsize=16)\n",
    "plt.xlabel(\"Country\", fontsize=12)\n",
    "plt.ylabel(\"Number of Occurrences\", fontsize=12)\n",
    "plt.xticks(rotation=45)\n",
    "plt.show()\n"
   ]
  }
 ],
 "metadata": {
  "kernelspec": {
   "display_name": "Python 3",
   "language": "python",
   "name": "python3"
  },
  "language_info": {
   "codemirror_mode": {
    "name": "ipython",
    "version": 3
   },
   "file_extension": ".py",
   "mimetype": "text/x-python",
   "name": "python",
   "nbconvert_exporter": "python",
   "pygments_lexer": "ipython3",
   "version": "3.11.3"
  }
 },
 "nbformat": 4,
 "nbformat_minor": 5
}
